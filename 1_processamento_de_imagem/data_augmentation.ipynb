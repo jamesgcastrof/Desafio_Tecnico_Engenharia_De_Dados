{
 "cells": [
  {
   "cell_type": "markdown",
   "metadata": {},
   "source": [
    "#### Data augmentation - Processamento de imagem\n",
    "É uma técnica amplamente utilizada no processamento de imagens para aumentar a quantidade e diversidade dos dados disponíveis para treinamento de modelos de aprendizado de máquina. Essa técnica consiste em aplicar transformações nos dados de entrada, como rotação, espelhamento, zoom, corte, entre outras, de forma a criar novas variações dos dados originais.\n",
    "\n",
    "Sua importancia reside no fato de que ele ajuda a evitar o overfitting, que ocorre quando um modelo se torna muito especializado nos dados de treinamento e não generaliza bem para novos dados. Ao introduzir variações nos dados de treinamento, o modelo é exposto a diferentes cenários e condições, o que o torna mais robusto e capaz de lidar com diferentes situações na fase de teste.\n",
    "\n",
    "Além disso, o aumento de dados também permite lidar com conjuntos de dados limitados, pois é possível gerar um número maior de exemplos a partir de um conjunto de dados menor. Isso é especialmente útil em tarefas de visão computacional, onde a disponibilidade de dados rotulados pode ser escassa.\n",
    "\n",
    "Em resumo, o aumento de dados é uma técnica essencial no processamento de imagens, pois ajuda a melhorar a capacidade de generalização dos modelos de aprendizado de máquina, evitando o overfitting e lidando com conjuntos de dados limitados.\n",
    "\n",
    "####  Objetivos:\n",
    "- Utilizar a linguagem python para gerar novas imagens a partir do arquivo dog.jpg\n",
    "#### Intruçoes de uso:\n",
    "- Após clonar o repositorio, rodar o codigo deste notebook que gerará as novas imagens na pasta 'imagens_geradas'.\n",
    "#### Indice:\n",
    "#### CÓDIGO:\n",
    "\n",
    "\n"
   ]
  },
  {
   "cell_type": "code",
   "execution_count": 19,
   "metadata": {},
   "outputs": [],
   "source": [
    "\n",
    "import os\n",
    "import numpy as np\n",
    "from skimage import io, transform, util\n",
    "from scipy import ndimage\n",
    "\n",
    "\n",
    "original_image = io.imread('dog.jpg')\n",
    "output_dir = \"imagens_geradas\"\n",
    "os.makedirs(output_dir, exist_ok=True)\n",
    "\n",
    "\n",
    "def save_augmented_image(image, output_path):\n",
    "    image = (image - np.min(image)) / (np.max(image) - np.min(image)) * 255\n",
    "    image = np.array(image, dtype=np.uint8)\n",
    "    io.imsave(output_path, image)\n",
    "\n",
    "for i in range(1, 10):  \n",
    "    \n",
    "    rotated_image = transform.rotate(original_image, np.random.uniform(-180, 180))\n",
    "    save_augmented_image(rotated_image, os.path.join(output_dir, f\"rotated_image_{i}.jpg\"))\n",
    "\n",
    "    noisy_image = util.random_noise(original_image, mode='gaussian', var=0.1)\n",
    "    save_augmented_image(noisy_image, os.path.join(output_dir, f\"noisy_image_{i}.jpg\"))\n",
    "\n",
    "    blurred_image = ndimage.gaussian_filter(original_image, sigma=np.random.uniform(0.1, 1.5))\n",
    "    save_augmented_image(blurred_image, os.path.join(output_dir, f\"blurred_image_{i}.jpg\"))\n",
    "\n",
    "    color_shifted_image = original_image.astype(float) * np.random.uniform(0.5, 1.5, size=(1, 1, 3))\n",
    "    save_augmented_image(color_shifted_image, os.path.join(output_dir, f\"color_shifted_image_{i}.jpg\"))\n",
    "\n",
    "flipped_image = np.fliplr(original_image)\n",
    "save_augmented_image(flipped_image, os.path.join(output_dir, f\"flipped_image.jpg\"))\n",
    "\n",
    "\n",
    "\n"
   ]
  }
 ],
 "metadata": {
  "kernelspec": {
   "display_name": "Python 3",
   "language": "python",
   "name": "python3"
  },
  "language_info": {
   "codemirror_mode": {
    "name": "ipython",
    "version": 3
   },
   "file_extension": ".py",
   "mimetype": "text/x-python",
   "name": "python",
   "nbconvert_exporter": "python",
   "pygments_lexer": "ipython3",
   "version": "3.12.2"
  }
 },
 "nbformat": 4,
 "nbformat_minor": 2
}
