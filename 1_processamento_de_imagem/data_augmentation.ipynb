{
 "cells": [
  {
   "cell_type": "markdown",
   "metadata": {},
   "source": [
    "#### Data augmentation - Processamento de imagem\n",
    "É uma técnica amplamente utilizada no processamento de imagens para aumentar a quantidade e diversidade dos dados disponíveis para treinamento de modelos de aprendizado de máquina. Essa técnica consiste em aplicar transformações nos dados de entrada, como rotação, espelhamento, zoom, corte, entre outras, de forma a criar novas variações dos dados originais.\n",
    "\n",
    "Sua importancia reside no fato de que ele ajuda a evitar o overfitting, que ocorre quando um modelo se torna muito especializado nos dados de treinamento e não generaliza bem para novos dados. Ao introduzir variações nos dados de treinamento, o modelo é exposto a diferentes cenários e condições, o que o torna mais robusto e capaz de lidar com diferentes situações na fase de teste.\n",
    "\n",
    "Além disso, o aumento de dados também permite lidar com conjuntos de dados limitados, pois é possível gerar um número maior de exemplos a partir de um conjunto de dados menor. Isso é especialmente útil em tarefas de visão computacional, onde a disponibilidade de dados rotulados pode ser escassa.\n",
    "\n",
    "Em resumo, o aumento de dados é uma técnica essencial no processamento de imagens, pois ajuda a melhorar a capacidade de generalização dos modelos de aprendizado de máquina, evitando o overfitting e lidando com conjuntos de dados limitados.\n",
    "\n",
    "####  Objetivos:\n",
    "- Utilizar a linguagem python para gerar novas imagens a partir do arquivo dog.jpg\n",
    "#### Intruçoes de uso:\n",
    "- Após clonar o repositorio e e instalar as bibliotecas necessarias, rodar o codigo deste notebook que gerará as imagens na pasta 'imagens_geradas', o numero de imagens pode ser alterado no loop 'for' caso seja necessario.\n",
    "#### Indice:\n",
    "1. Usar a biblioteca numpy, scipy e skymage para manipular e gerar novas imagens conforme vimos na aula 4.\n",
    "#### CÓDIGO:\n",
    "\n",
    "\n"
   ]
  },
  {
   "cell_type": "code",
   "execution_count": 6,
   "metadata": {},
   "outputs": [
    {
     "ename": "RuntimeError",
     "evalue": "sequence argument must have length equal to input rank",
     "output_type": "error",
     "traceback": [
      "\u001b[1;31m---------------------------------------------------------------------------\u001b[0m",
      "\u001b[1;31mRuntimeError\u001b[0m                              Traceback (most recent call last)",
      "Cell \u001b[1;32mIn[6], line 32\u001b[0m\n\u001b[0;32m     29\u001b[0m     save_augmented_image(color_shifted_image, os\u001b[39m.\u001b[39mpath\u001b[39m.\u001b[39mjoin(output_dir, \u001b[39mf\u001b[39m\u001b[39m\"\u001b[39m\u001b[39mcolor_shifted_image_\u001b[39m\u001b[39m{\u001b[39;00mi\u001b[39m}\u001b[39;00m\u001b[39m.jpg\u001b[39m\u001b[39m\"\u001b[39m))\n\u001b[0;32m     31\u001b[0m     shift_amount \u001b[39m=\u001b[39m np\u001b[39m.\u001b[39mrandom\u001b[39m.\u001b[39mrandint(\u001b[39m-\u001b[39m\u001b[39m50\u001b[39m, \u001b[39m51\u001b[39m, size\u001b[39m=\u001b[39m\u001b[39m2\u001b[39m) \n\u001b[1;32m---> 32\u001b[0m     shifted_image \u001b[39m=\u001b[39m ndimage\u001b[39m.\u001b[39;49mshift(original_image, shift_amount, mode\u001b[39m=\u001b[39;49m\u001b[39m'\u001b[39;49m\u001b[39mnearest\u001b[39;49m\u001b[39m'\u001b[39;49m)\n\u001b[0;32m     33\u001b[0m     save_augmented_image(shifted_image, os\u001b[39m.\u001b[39mpath\u001b[39m.\u001b[39mjoin(output_dir, \u001b[39mf\u001b[39m\u001b[39m\"\u001b[39m\u001b[39mshifted_image_\u001b[39m\u001b[39m{\u001b[39;00mi\u001b[39m}\u001b[39;00m\u001b[39m.jpg\u001b[39m\u001b[39m\"\u001b[39m))\n\u001b[0;32m     35\u001b[0m flipped_image \u001b[39m=\u001b[39m np\u001b[39m.\u001b[39mfliplr(original_image)\n",
      "File \u001b[1;32mc:\\Users\\Usuario\\AppData\\Local\\Programs\\Python\\Python312\\Lib\\site-packages\\scipy\\ndimage\\_interpolation.py:733\u001b[0m, in \u001b[0;36mshift\u001b[1;34m(input, shift, output, order, mode, cval, prefilter)\u001b[0m\n\u001b[0;32m    731\u001b[0m     filtered \u001b[39m=\u001b[39m \u001b[39minput\u001b[39m\n\u001b[0;32m    732\u001b[0m mode \u001b[39m=\u001b[39m _ni_support\u001b[39m.\u001b[39m_extend_mode_to_code(mode)\n\u001b[1;32m--> 733\u001b[0m shift \u001b[39m=\u001b[39m _ni_support\u001b[39m.\u001b[39;49m_normalize_sequence(shift, \u001b[39minput\u001b[39;49m\u001b[39m.\u001b[39;49mndim)\n\u001b[0;32m    734\u001b[0m shift \u001b[39m=\u001b[39m [\u001b[39m-\u001b[39mii \u001b[39mfor\u001b[39;00m ii \u001b[39min\u001b[39;00m shift]\n\u001b[0;32m    735\u001b[0m shift \u001b[39m=\u001b[39m numpy\u001b[39m.\u001b[39masarray(shift, dtype\u001b[39m=\u001b[39mnumpy\u001b[39m.\u001b[39mfloat64)\n",
      "File \u001b[1;32mc:\\Users\\Usuario\\AppData\\Local\\Programs\\Python\\Python312\\Lib\\site-packages\\scipy\\ndimage\\_ni_support.py:68\u001b[0m, in \u001b[0;36m_normalize_sequence\u001b[1;34m(input, rank)\u001b[0m\n\u001b[0;32m     66\u001b[0m     \u001b[39mif\u001b[39;00m \u001b[39mlen\u001b[39m(normalized) \u001b[39m!=\u001b[39m rank:\n\u001b[0;32m     67\u001b[0m         err \u001b[39m=\u001b[39m \u001b[39m\"\u001b[39m\u001b[39msequence argument must have length equal to input rank\u001b[39m\u001b[39m\"\u001b[39m\n\u001b[1;32m---> 68\u001b[0m         \u001b[39mraise\u001b[39;00m \u001b[39mRuntimeError\u001b[39;00m(err)\n\u001b[0;32m     69\u001b[0m \u001b[39melse\u001b[39;00m:\n\u001b[0;32m     70\u001b[0m     normalized \u001b[39m=\u001b[39m [\u001b[39minput\u001b[39m] \u001b[39m*\u001b[39m rank\n",
      "\u001b[1;31mRuntimeError\u001b[0m: sequence argument must have length equal to input rank"
     ]
    }
   ],
   "source": [
    "\n",
    "import os\n",
    "import numpy as np\n",
    "from skimage import io, transform, util\n",
    "from scipy import ndimage\n",
    "\n",
    "\n",
    "original_image = io.imread('dog.jpg')\n",
    "output_dir = \"imagens_geradas\"\n",
    "os.makedirs(output_dir, exist_ok=True)\n",
    "\n",
    "\n",
    "def save_augmented_image(image, output_path):\n",
    "    image = (image - np.min(image)) / (np.max(image) - np.min(image)) * 255\n",
    "    image = np.array(image, dtype=np.uint8)\n",
    "    io.imsave(output_path, image)\n",
    "\n",
    "for i in range(1, 11):  \n",
    "    \n",
    "    rotated_image = transform.rotate(original_image, np.random.uniform(-180, 180))\n",
    "    save_augmented_image(rotated_image, os.path.join(output_dir, f\"rotated_image_{i}.jpg\"))\n",
    "\n",
    "    noisy_image = util.random_noise(original_image, mode='gaussian', var=0.1)\n",
    "    save_augmented_image(noisy_image, os.path.join(output_dir, f\"noisy_image_{i}.jpg\"))\n",
    "\n",
    "    blurred_image = ndimage.gaussian_filter(original_image, sigma=np.random.uniform(0.1, 1.5))\n",
    "    save_augmented_image(blurred_image, os.path.join(output_dir, f\"blurred_image_{i}.jpg\"))\n",
    "\n",
    "    color_shifted_image = original_image.astype(float) * np.random.uniform(0.5, 1.5, size=(1, 1, 3))\n",
    "    save_augmented_image(color_shifted_image, os.path.join(output_dir, f\"color_shifted_image_{i}.jpg\"))\n",
    "\n",
    "\n",
    "\n",
    "flipped_image = np.fliplr(original_image)\n",
    "save_augmented_image(flipped_image, os.path.join(output_dir, f\"flipped_image.jpg\"))\n"
   ]
  }
 ],
 "metadata": {
  "kernelspec": {
   "display_name": "Python 3",
   "language": "python",
   "name": "python3"
  },
  "language_info": {
   "codemirror_mode": {
    "name": "ipython",
    "version": 3
   },
   "file_extension": ".py",
   "mimetype": "text/x-python",
   "name": "python",
   "nbconvert_exporter": "python",
   "pygments_lexer": "ipython3",
   "version": "3.12.2"
  }
 },
 "nbformat": 4,
 "nbformat_minor": 2
}
