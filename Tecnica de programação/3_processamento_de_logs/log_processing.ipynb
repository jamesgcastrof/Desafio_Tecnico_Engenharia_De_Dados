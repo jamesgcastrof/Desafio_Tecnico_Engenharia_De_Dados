{
 "cells": [
  {
   "cell_type": "markdown",
   "metadata": {},
   "source": [
    "#### Análise de log de um server de e-commerce\n",
    "A análise de logs oferece insights valiosos para a área de análise de dados. Ela permite identificar padrões, tendências e correlações nos registros de eventos, otimizando recursos, melhorando a segurança e a eficiência operacional. Ao examinar logs, os profissionais de dados podem tomar decisões informadas, prever comportamentos futuros e monitorar continuamente sistemas e serviços.\n",
    "#### Objetivos:\n",
    "- Extrair dados do aqruivo de log e transformalo num dataset;\n",
    "- Transformar e analisar os dados resultantes em conhecimento relevante.\n",
    "#### Dados:\n",
    "Zaker, Farzin, 2019, \"Online Shopping Store - Web Server Logs\",  https://doi.org/10.7910/DVN/3QBYB5, Harvard Dataverse, ACESSADO EM: 11/03/2024\n",
    "#### Intruçoes de uso:\n",
    "1. Instalar as bibliotecas necessárias;\n",
    "2. Baixar os dados utilizados;\n",
    "3. Rodar so codigos abaixo.\n",
    "#### CÓDIGO:"
   ]
  },
  {
   "cell_type": "markdown",
   "metadata": {},
   "source": [
    "Iniciando por uma verificação de integridade de acesso de entradas no log."
   ]
  },
  {
   "cell_type": "code",
   "execution_count": null,
   "metadata": {},
   "outputs": [],
   "source": [
    "!head access.log"
   ]
  },
  {
   "cell_type": "markdown",
   "metadata": {},
   "source": [
    "Utiliza regex para determinar pontos de corte nas linhas do log e extrair as principais infos."
   ]
  },
  {
   "cell_type": "code",
   "execution_count": 1,
   "metadata": {},
   "outputs": [],
   "source": [
    "import pandas as pd\n",
    "import matplotlib.pyplot as plt\n",
    "import re\n",
    "\n",
    "padrao = re.compile(r'(.+) - - \\[(\\d{2}\\/\\w{3}\\/\\d{4}:\\d{2}:\\d{2}:\\d{2}) \\+\\d{4}\\] \\\"(\\w+) .+')\n",
    "\n",
    "# Lista de dicionários para armazenar os dados\n",
    "data_dict_list = []\n",
    "\n",
    "with open('access.log') as log:\n",
    "    for line in log:\n",
    "        match = padrao.match(line)\n",
    "        if match:\n",
    "            data_dict_list.append({'ip_address': match.group(1),\n",
    "                                   'datetime': match.group(2),\n",
    "                                   'request_type': match.group(3)})\n",
    "\n",
    "data = pd.DataFrame(data_dict_list)\n",
    "\n",
    "data['datetime'] = pd.to_datetime(data['datetime'], format='%d/%b/%Y:%H:%M:%S')\n",
    "\n",
    "data.head()"
   ]
  }
 ],
 "metadata": {
  "kernelspec": {
   "display_name": "Python 3",
   "language": "python",
   "name": "python3"
  },
  "language_info": {
   "codemirror_mode": {
    "name": "ipython",
    "version": 3
   },
   "file_extension": ".py",
   "mimetype": "text/x-python",
   "name": "python",
   "nbconvert_exporter": "python",
   "pygments_lexer": "ipython3",
   "version": "3.10.12"
  },
  "orig_nbformat": 4
 },
 "nbformat": 4,
 "nbformat_minor": 2
}
